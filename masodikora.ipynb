{
  "nbformat": 4,
  "nbformat_minor": 0,
  "metadata": {
    "colab": {
      "name": "masodikora.ipynb",
      "provenance": [],
      "authorship_tag": "ABX9TyNTUB+XGmSqcdkiCqOwO5SW",
      "include_colab_link": true
    },
    "kernelspec": {
      "name": "python3",
      "display_name": "Python 3"
    },
    "language_info": {
      "name": "python"
    }
  },
  "cells": [
    {
      "cell_type": "markdown",
      "metadata": {
        "id": "view-in-github",
        "colab_type": "text"
      },
      "source": [
        "<a href=\"https://colab.research.google.com/github/BiszakAletta/FAKT.ML.kurzus/blob/main/masodikora.ipynb\" target=\"_parent\"><img src=\"https://colab.research.google.com/assets/colab-badge.svg\" alt=\"Open In Colab\"/></a>"
      ]
    },
    {
      "cell_type": "code",
      "execution_count": 1,
      "metadata": {
        "id": "LOAg9UIkbaBK"
      },
      "outputs": [],
      "source": [
        "#bináris beteg vagy sem"
      ]
    },
    {
      "cell_type": "code",
      "source": [
        "import pandas as pd\n",
        "from sklearn.preprocessing import LabelEncoder, StandardScaler\n",
        "from sklearn.model_selection import train_test_split"
      ],
      "metadata": {
        "id": "fxDg3uGBmW9k"
      },
      "execution_count": 31,
      "outputs": []
    },
    {
      "cell_type": "code",
      "source": [
        "file_url = \"http://storage.googleapis.com/download.tensorflow.org/data/heart.csv\""
      ],
      "metadata": {
        "id": "F9M2yA5vm5YZ"
      },
      "execution_count": 3,
      "outputs": []
    },
    {
      "cell_type": "code",
      "source": [
        "dataframe = pd.read_csv(file_url)"
      ],
      "metadata": {
        "id": "Dikn-X_Xm7UI"
      },
      "execution_count": 4,
      "outputs": []
    },
    {
      "cell_type": "code",
      "source": [
        "dataframe.shape"
      ],
      "metadata": {
        "colab": {
          "base_uri": "https://localhost:8080/"
        },
        "id": "WtuRnWcwnDrF",
        "outputId": "7e9f492f-85ef-4c39-b3e3-c5b1255dc4ce"
      },
      "execution_count": 6,
      "outputs": [
        {
          "output_type": "execute_result",
          "data": {
            "text/plain": [
              "(303, 14)"
            ]
          },
          "metadata": {},
          "execution_count": 6
        }
      ]
    },
    {
      "cell_type": "code",
      "source": [
        "dataframe.head"
      ],
      "metadata": {
        "colab": {
          "base_uri": "https://localhost:8080/"
        },
        "id": "AKJ4y0Z2nG8z",
        "outputId": "298847d9-1b1d-4110-849c-1863fa1fa177"
      },
      "execution_count": 7,
      "outputs": [
        {
          "output_type": "execute_result",
          "data": {
            "text/plain": [
              "<bound method NDFrame.head of      age  sex  cp  trestbps  chol  ...  oldpeak  slope  ca        thal  target\n",
              "0     63    1   1       145   233  ...      2.3      3   0       fixed       0\n",
              "1     67    1   4       160   286  ...      1.5      2   3      normal       1\n",
              "2     67    1   4       120   229  ...      2.6      2   2  reversible       0\n",
              "3     37    1   3       130   250  ...      3.5      3   0      normal       0\n",
              "4     41    0   2       130   204  ...      1.4      1   0      normal       0\n",
              "..   ...  ...  ..       ...   ...  ...      ...    ...  ..         ...     ...\n",
              "298   52    1   1       118   186  ...      0.0      2   0       fixed       0\n",
              "299   43    0   4       132   341  ...      3.0      2   0  reversible       1\n",
              "300   65    1   4       135   254  ...      2.8      2   1  reversible       1\n",
              "301   48    1   4       130   256  ...      0.0      1   2  reversible       1\n",
              "302   63    0   4       150   407  ...      4.0      2   3  reversible       1\n",
              "\n",
              "[303 rows x 14 columns]>"
            ]
          },
          "metadata": {},
          "execution_count": 7
        }
      ]
    },
    {
      "cell_type": "code",
      "source": [
        "dataframe.isna().sum()"
      ],
      "metadata": {
        "colab": {
          "base_uri": "https://localhost:8080/"
        },
        "id": "3YuWdtK8nOnK",
        "outputId": "8db57f85-9b10-4132-f604-1eeb0ae89f2a"
      },
      "execution_count": 9,
      "outputs": [
        {
          "output_type": "execute_result",
          "data": {
            "text/plain": [
              "age         0\n",
              "sex         0\n",
              "cp          0\n",
              "trestbps    0\n",
              "chol        0\n",
              "fbs         0\n",
              "restecg     0\n",
              "thalach     0\n",
              "exang       0\n",
              "oldpeak     0\n",
              "slope       0\n",
              "ca          0\n",
              "thal        0\n",
              "target      0\n",
              "dtype: int64"
            ]
          },
          "metadata": {},
          "execution_count": 9
        }
      ]
    },
    {
      "cell_type": "code",
      "source": [
        "#true 1 false 0\n",
        "#szum 1-ek összege - hiányzó adatok soronként"
      ],
      "metadata": {
        "id": "Okbf6s6mna0q"
      },
      "execution_count": 10,
      "outputs": []
    },
    {
      "cell_type": "code",
      "source": [
        "labeler = LabelEncoder()"
      ],
      "metadata": {
        "id": "XD3RRcXjnplt"
      },
      "execution_count": 13,
      "outputs": []
    },
    {
      "cell_type": "code",
      "source": [
        "labeler.fit(dataframe.thal)\n",
        "#adat betanulása és alakítása"
      ],
      "metadata": {
        "colab": {
          "base_uri": "https://localhost:8080/"
        },
        "id": "I5GXIoain_nA",
        "outputId": "413c2339-c16e-45f5-e4ca-022ae88712b4"
      },
      "execution_count": 14,
      "outputs": [
        {
          "output_type": "execute_result",
          "data": {
            "text/plain": [
              "LabelEncoder()"
            ]
          },
          "metadata": {},
          "execution_count": 14
        }
      ]
    },
    {
      "cell_type": "code",
      "source": [
        "dataframe.thal = labeler.transform(dataframe.thal)"
      ],
      "metadata": {
        "id": "bRUhKtfeoQpa"
      },
      "execution_count": 16,
      "outputs": []
    },
    {
      "cell_type": "code",
      "source": [
        "#dataframe.thal = labeler.fit_transform(...)"
      ],
      "metadata": {
        "id": "0T031YlNoX4O"
      },
      "execution_count": 17,
      "outputs": []
    },
    {
      "cell_type": "code",
      "source": [
        "dataframe.head"
      ],
      "metadata": {
        "colab": {
          "base_uri": "https://localhost:8080/"
        },
        "id": "z8SV3AqGomtL",
        "outputId": "cb23a5a0-1a64-42a5-cd63-e3b1dc285b44"
      },
      "execution_count": 18,
      "outputs": [
        {
          "output_type": "execute_result",
          "data": {
            "text/plain": [
              "<bound method NDFrame.head of      age  sex  cp  trestbps  chol  fbs  ...  exang  oldpeak  slope  ca  thal  target\n",
              "0     63    1   1       145   233    1  ...      0      2.3      3   0     2       0\n",
              "1     67    1   4       160   286    0  ...      1      1.5      2   3     3       1\n",
              "2     67    1   4       120   229    0  ...      1      2.6      2   2     4       0\n",
              "3     37    1   3       130   250    0  ...      0      3.5      3   0     3       0\n",
              "4     41    0   2       130   204    0  ...      0      1.4      1   0     3       0\n",
              "..   ...  ...  ..       ...   ...  ...  ...    ...      ...    ...  ..   ...     ...\n",
              "298   52    1   1       118   186    0  ...      0      0.0      2   0     2       0\n",
              "299   43    0   4       132   341    1  ...      1      3.0      2   0     4       1\n",
              "300   65    1   4       135   254    0  ...      0      2.8      2   1     4       1\n",
              "301   48    1   4       130   256    1  ...      1      0.0      1   2     4       1\n",
              "302   63    0   4       150   407    0  ...      0      4.0      2   3     4       1\n",
              "\n",
              "[303 rows x 14 columns]>"
            ]
          },
          "metadata": {},
          "execution_count": 18
        }
      ]
    },
    {
      "cell_type": "code",
      "source": [
        "y_df = dataframe.target"
      ],
      "metadata": {
        "id": "eecZ50t4opJx"
      },
      "execution_count": 19,
      "outputs": []
    },
    {
      "cell_type": "code",
      "source": [
        "y_df.head()"
      ],
      "metadata": {
        "colab": {
          "base_uri": "https://localhost:8080/"
        },
        "id": "eCuzbL_2o7EP",
        "outputId": "1022cc2b-83bd-4f1b-c10f-543f86833859"
      },
      "execution_count": 20,
      "outputs": [
        {
          "output_type": "execute_result",
          "data": {
            "text/plain": [
              "0    0\n",
              "1    1\n",
              "2    0\n",
              "3    0\n",
              "4    0\n",
              "Name: target, dtype: int64"
            ]
          },
          "metadata": {},
          "execution_count": 20
        }
      ]
    },
    {
      "cell_type": "code",
      "source": [
        "x_df = dataframe.copy().drop('target',axis = 1) #oszloponként törlés"
      ],
      "metadata": {
        "id": "HVpeDl0so-AV"
      },
      "execution_count": 24,
      "outputs": []
    },
    {
      "cell_type": "code",
      "source": [
        "x_df.head()"
      ],
      "metadata": {
        "colab": {
          "base_uri": "https://localhost:8080/",
          "height": 270
        },
        "id": "RqX_PkATpMi8",
        "outputId": "a841745c-5849-4628-e540-62d8e841533c"
      },
      "execution_count": 25,
      "outputs": [
        {
          "output_type": "execute_result",
          "data": {
            "text/html": [
              "\n",
              "  <div id=\"df-89982f56-8242-4b8d-84a0-575b4e137aa2\">\n",
              "    <div class=\"colab-df-container\">\n",
              "      <div>\n",
              "<style scoped>\n",
              "    .dataframe tbody tr th:only-of-type {\n",
              "        vertical-align: middle;\n",
              "    }\n",
              "\n",
              "    .dataframe tbody tr th {\n",
              "        vertical-align: top;\n",
              "    }\n",
              "\n",
              "    .dataframe thead th {\n",
              "        text-align: right;\n",
              "    }\n",
              "</style>\n",
              "<table border=\"1\" class=\"dataframe\">\n",
              "  <thead>\n",
              "    <tr style=\"text-align: right;\">\n",
              "      <th></th>\n",
              "      <th>age</th>\n",
              "      <th>sex</th>\n",
              "      <th>cp</th>\n",
              "      <th>trestbps</th>\n",
              "      <th>chol</th>\n",
              "      <th>fbs</th>\n",
              "      <th>restecg</th>\n",
              "      <th>thalach</th>\n",
              "      <th>exang</th>\n",
              "      <th>oldpeak</th>\n",
              "      <th>slope</th>\n",
              "      <th>ca</th>\n",
              "      <th>thal</th>\n",
              "    </tr>\n",
              "  </thead>\n",
              "  <tbody>\n",
              "    <tr>\n",
              "      <th>0</th>\n",
              "      <td>63</td>\n",
              "      <td>1</td>\n",
              "      <td>1</td>\n",
              "      <td>145</td>\n",
              "      <td>233</td>\n",
              "      <td>1</td>\n",
              "      <td>2</td>\n",
              "      <td>150</td>\n",
              "      <td>0</td>\n",
              "      <td>2.3</td>\n",
              "      <td>3</td>\n",
              "      <td>0</td>\n",
              "      <td>2</td>\n",
              "    </tr>\n",
              "    <tr>\n",
              "      <th>1</th>\n",
              "      <td>67</td>\n",
              "      <td>1</td>\n",
              "      <td>4</td>\n",
              "      <td>160</td>\n",
              "      <td>286</td>\n",
              "      <td>0</td>\n",
              "      <td>2</td>\n",
              "      <td>108</td>\n",
              "      <td>1</td>\n",
              "      <td>1.5</td>\n",
              "      <td>2</td>\n",
              "      <td>3</td>\n",
              "      <td>3</td>\n",
              "    </tr>\n",
              "    <tr>\n",
              "      <th>2</th>\n",
              "      <td>67</td>\n",
              "      <td>1</td>\n",
              "      <td>4</td>\n",
              "      <td>120</td>\n",
              "      <td>229</td>\n",
              "      <td>0</td>\n",
              "      <td>2</td>\n",
              "      <td>129</td>\n",
              "      <td>1</td>\n",
              "      <td>2.6</td>\n",
              "      <td>2</td>\n",
              "      <td>2</td>\n",
              "      <td>4</td>\n",
              "    </tr>\n",
              "    <tr>\n",
              "      <th>3</th>\n",
              "      <td>37</td>\n",
              "      <td>1</td>\n",
              "      <td>3</td>\n",
              "      <td>130</td>\n",
              "      <td>250</td>\n",
              "      <td>0</td>\n",
              "      <td>0</td>\n",
              "      <td>187</td>\n",
              "      <td>0</td>\n",
              "      <td>3.5</td>\n",
              "      <td>3</td>\n",
              "      <td>0</td>\n",
              "      <td>3</td>\n",
              "    </tr>\n",
              "    <tr>\n",
              "      <th>4</th>\n",
              "      <td>41</td>\n",
              "      <td>0</td>\n",
              "      <td>2</td>\n",
              "      <td>130</td>\n",
              "      <td>204</td>\n",
              "      <td>0</td>\n",
              "      <td>2</td>\n",
              "      <td>172</td>\n",
              "      <td>0</td>\n",
              "      <td>1.4</td>\n",
              "      <td>1</td>\n",
              "      <td>0</td>\n",
              "      <td>3</td>\n",
              "    </tr>\n",
              "  </tbody>\n",
              "</table>\n",
              "</div>\n",
              "      <button class=\"colab-df-convert\" onclick=\"convertToInteractive('df-89982f56-8242-4b8d-84a0-575b4e137aa2')\"\n",
              "              title=\"Convert this dataframe to an interactive table.\"\n",
              "              style=\"display:none;\">\n",
              "        \n",
              "  <svg xmlns=\"http://www.w3.org/2000/svg\" height=\"24px\"viewBox=\"0 0 24 24\"\n",
              "       width=\"24px\">\n",
              "    <path d=\"M0 0h24v24H0V0z\" fill=\"none\"/>\n",
              "    <path d=\"M18.56 5.44l.94 2.06.94-2.06 2.06-.94-2.06-.94-.94-2.06-.94 2.06-2.06.94zm-11 1L8.5 8.5l.94-2.06 2.06-.94-2.06-.94L8.5 2.5l-.94 2.06-2.06.94zm10 10l.94 2.06.94-2.06 2.06-.94-2.06-.94-.94-2.06-.94 2.06-2.06.94z\"/><path d=\"M17.41 7.96l-1.37-1.37c-.4-.4-.92-.59-1.43-.59-.52 0-1.04.2-1.43.59L10.3 9.45l-7.72 7.72c-.78.78-.78 2.05 0 2.83L4 21.41c.39.39.9.59 1.41.59.51 0 1.02-.2 1.41-.59l7.78-7.78 2.81-2.81c.8-.78.8-2.07 0-2.86zM5.41 20L4 18.59l7.72-7.72 1.47 1.35L5.41 20z\"/>\n",
              "  </svg>\n",
              "      </button>\n",
              "      \n",
              "  <style>\n",
              "    .colab-df-container {\n",
              "      display:flex;\n",
              "      flex-wrap:wrap;\n",
              "      gap: 12px;\n",
              "    }\n",
              "\n",
              "    .colab-df-convert {\n",
              "      background-color: #E8F0FE;\n",
              "      border: none;\n",
              "      border-radius: 50%;\n",
              "      cursor: pointer;\n",
              "      display: none;\n",
              "      fill: #1967D2;\n",
              "      height: 32px;\n",
              "      padding: 0 0 0 0;\n",
              "      width: 32px;\n",
              "    }\n",
              "\n",
              "    .colab-df-convert:hover {\n",
              "      background-color: #E2EBFA;\n",
              "      box-shadow: 0px 1px 2px rgba(60, 64, 67, 0.3), 0px 1px 3px 1px rgba(60, 64, 67, 0.15);\n",
              "      fill: #174EA6;\n",
              "    }\n",
              "\n",
              "    [theme=dark] .colab-df-convert {\n",
              "      background-color: #3B4455;\n",
              "      fill: #D2E3FC;\n",
              "    }\n",
              "\n",
              "    [theme=dark] .colab-df-convert:hover {\n",
              "      background-color: #434B5C;\n",
              "      box-shadow: 0px 1px 3px 1px rgba(0, 0, 0, 0.15);\n",
              "      filter: drop-shadow(0px 1px 2px rgba(0, 0, 0, 0.3));\n",
              "      fill: #FFFFFF;\n",
              "    }\n",
              "  </style>\n",
              "\n",
              "      <script>\n",
              "        const buttonEl =\n",
              "          document.querySelector('#df-89982f56-8242-4b8d-84a0-575b4e137aa2 button.colab-df-convert');\n",
              "        buttonEl.style.display =\n",
              "          google.colab.kernel.accessAllowed ? 'block' : 'none';\n",
              "\n",
              "        async function convertToInteractive(key) {\n",
              "          const element = document.querySelector('#df-89982f56-8242-4b8d-84a0-575b4e137aa2');\n",
              "          const dataTable =\n",
              "            await google.colab.kernel.invokeFunction('convertToInteractive',\n",
              "                                                     [key], {});\n",
              "          if (!dataTable) return;\n",
              "\n",
              "          const docLinkHtml = 'Like what you see? Visit the ' +\n",
              "            '<a target=\"_blank\" href=https://colab.research.google.com/notebooks/data_table.ipynb>data table notebook</a>'\n",
              "            + ' to learn more about interactive tables.';\n",
              "          element.innerHTML = '';\n",
              "          dataTable['output_type'] = 'display_data';\n",
              "          await google.colab.output.renderOutput(dataTable, element);\n",
              "          const docLink = document.createElement('div');\n",
              "          docLink.innerHTML = docLinkHtml;\n",
              "          element.appendChild(docLink);\n",
              "        }\n",
              "      </script>\n",
              "    </div>\n",
              "  </div>\n",
              "  "
            ],
            "text/plain": [
              "   age  sex  cp  trestbps  chol  fbs  ...  thalach  exang  oldpeak  slope  ca  thal\n",
              "0   63    1   1       145   233    1  ...      150      0      2.3      3   0     2\n",
              "1   67    1   4       160   286    0  ...      108      1      1.5      2   3     3\n",
              "2   67    1   4       120   229    0  ...      129      1      2.6      2   2     4\n",
              "3   37    1   3       130   250    0  ...      187      0      3.5      3   0     3\n",
              "4   41    0   2       130   204    0  ...      172      0      1.4      1   0     3\n",
              "\n",
              "[5 rows x 13 columns]"
            ]
          },
          "metadata": {},
          "execution_count": 25
        }
      ]
    },
    {
      "cell_type": "code",
      "source": [
        "x_train, x_test, y_train, y_test = train_test_split(x_df, y_df, test_size=0.1, shuffle = True) #Adatbázisok kettéosztása"
      ],
      "metadata": {
        "id": "jpI8s5L1pO9x"
      },
      "execution_count": 35,
      "outputs": []
    },
    {
      "cell_type": "code",
      "source": [
        "x_train.shape"
      ],
      "metadata": {
        "colab": {
          "base_uri": "https://localhost:8080/"
        },
        "id": "8ze-OUy3p5n-",
        "outputId": "3a2d5885-a7d0-46a1-83fa-b8b77bb46be5"
      },
      "execution_count": 29,
      "outputs": [
        {
          "output_type": "execute_result",
          "data": {
            "text/plain": [
              "(272, 13)"
            ]
          },
          "metadata": {},
          "execution_count": 29
        }
      ]
    },
    {
      "cell_type": "code",
      "source": [
        "x_test.shape[0] == y_test.shape[0] #ugyananyi teszt mint eredmény"
      ],
      "metadata": {
        "colab": {
          "base_uri": "https://localhost:8080/"
        },
        "id": "DRckS23UqIp4",
        "outputId": "1f77ec35-c6ac-42f5-b63c-6dde09cb12af"
      },
      "execution_count": 30,
      "outputs": [
        {
          "output_type": "execute_result",
          "data": {
            "text/plain": [
              "True"
            ]
          },
          "metadata": {},
          "execution_count": 30
        }
      ]
    },
    {
      "cell_type": "code",
      "source": [
        "#normalizálás\n",
        "#tilos egyben normalizálni! átlag szórás együtt lenne számolva - kap belőle infót\n",
        "normalizer = StandardScaler()\n"
      ],
      "metadata": {
        "id": "d9XwC74lqV98"
      },
      "execution_count": 32,
      "outputs": []
    },
    {
      "cell_type": "code",
      "source": [
        "normalizer.fit(x_train)"
      ],
      "metadata": {
        "colab": {
          "base_uri": "https://localhost:8080/"
        },
        "id": "w9xPuDBkrUYc",
        "outputId": "57e74302-82da-4bae-d9ce-faf328691591"
      },
      "execution_count": 36,
      "outputs": [
        {
          "output_type": "execute_result",
          "data": {
            "text/plain": [
              "StandardScaler()"
            ]
          },
          "metadata": {},
          "execution_count": 36
        }
      ]
    },
    {
      "cell_type": "code",
      "source": [
        "x_train = normalizer.transform(x_train)"
      ],
      "metadata": {
        "id": "S0oNBkfGrrnv"
      },
      "execution_count": 37,
      "outputs": []
    },
    {
      "cell_type": "code",
      "source": [
        "x_train"
      ],
      "metadata": {
        "colab": {
          "base_uri": "https://localhost:8080/"
        },
        "id": "dmY1SGIWr_xw",
        "outputId": "30e03f34-e72c-4d43-cf76-d9004e128243"
      },
      "execution_count": 38,
      "outputs": [
        {
          "output_type": "execute_result",
          "data": {
            "text/plain": [
              "array([[-0.91029248,  0.67419986, -1.12567806, ..., -0.92751204,\n",
              "        -0.72086501,  1.08354013],\n",
              "       [ 0.51837783,  0.67419986,  0.86253254, ..., -0.92751204,\n",
              "        -0.72086501, -0.50955671],\n",
              "       [-0.3608039 , -1.4832397 ,  0.86253254, ...,  0.70012199,\n",
              "        -0.72086501,  1.08354013],\n",
              "       ...,\n",
              "       [-0.03111075,  0.67419986, -1.12567806, ..., -0.92751204,\n",
              "         0.34476153,  1.08354013],\n",
              "       [ 0.51837783,  0.67419986,  0.86253254, ...,  0.70012199,\n",
              "        -0.72086501,  1.08354013],\n",
              "       [ 0.95796869,  0.67419986,  0.86253254, ...,  0.70012199,\n",
              "         0.34476153,  1.08354013]])"
            ]
          },
          "metadata": {},
          "execution_count": 38
        }
      ]
    },
    {
      "cell_type": "code",
      "source": [
        "x_test = normalizer.transform(x_test)"
      ],
      "metadata": {
        "id": "eQsDkuKgsDJa"
      },
      "execution_count": 39,
      "outputs": []
    },
    {
      "cell_type": "code",
      "source": [
        "#train átlagával normalizáljuk a test részt is\n",
        "#fit adatok betöltése utána tesre ezen nem változtatunk\n"
      ],
      "metadata": {
        "id": "fQpt7rAbsjPh"
      },
      "execution_count": 40,
      "outputs": []
    },
    {
      "cell_type": "code",
      "source": [
        "#Architektúra létrehozása\n"
      ],
      "metadata": {
        "id": "0_RW6PoKufRK"
      },
      "execution_count": 41,
      "outputs": []
    },
    {
      "cell_type": "code",
      "source": [
        "#soronként rétegek definiál - egymásba fűzés"
      ],
      "metadata": {
        "id": "BCRGlz4busxr"
      },
      "execution_count": 42,
      "outputs": []
    },
    {
      "cell_type": "code",
      "source": [
        "from tensorflow.keras.layers import Input, Dense\n",
        "import keras\n",
        "from tensorflow.keras.utils import plot_model\n",
        "from tensorflow.keras.metrics import BinaryAccuracy"
      ],
      "metadata": {
        "id": "L1baOgxMvABT"
      },
      "execution_count": 60,
      "outputs": []
    },
    {
      "cell_type": "code",
      "source": [
        "input = Input(shape=(x_train.shape[1]))\n",
        "x = Dense(32, activation='relu')(input)\n",
        "x = Dense(64, activation='relu')(x)\n",
        "output = Dense(1, activation='sigmoid')(x)"
      ],
      "metadata": {
        "id": "i2q6ANgLuyf1"
      },
      "execution_count": 57,
      "outputs": []
    },
    {
      "cell_type": "code",
      "source": [
        "#dense csak előre halad az információ, minden mindennel össze van kötve\n",
        "#mennyi neuron kettő hatvány\n",
        "#bemenet"
      ],
      "metadata": {
        "id": "MwD1mI2_uyzD"
      },
      "execution_count": null,
      "outputs": []
    },
    {
      "cell_type": "code",
      "source": [
        "model = keras.Model(input, output)"
      ],
      "metadata": {
        "id": "oQE9EeAWuy9r"
      },
      "execution_count": 58,
      "outputs": []
    },
    {
      "cell_type": "code",
      "source": [
        "plot_model(model, show_shapes= True)"
      ],
      "metadata": {
        "colab": {
          "base_uri": "https://localhost:8080/",
          "height": 422
        },
        "id": "WYn-t18QuzCX",
        "outputId": "15932ee2-09b2-4c4f-f4b7-ce4089384875"
      },
      "execution_count": 59,
      "outputs": [
        {
          "output_type": "execute_result",
          "data": {
            "image/png": "[encoded data removed]",
            "text/plain": [
              "<IPython.core.display.Image object>"
            ]
          },
          "metadata": {},
          "execution_count": 59
        }
      ]
    },
    {
      "cell_type": "code",
      "source": [
        "model.compile(loss='binary_crossentropy', metrics=[BinaryAccuracy()]) "
      ],
      "metadata": {
        "id": "gsfN1r72uzGz"
      },
      "execution_count": 62,
      "outputs": []
    },
    {
      "cell_type": "code",
      "source": [
        "model.fit(x=x_train, y= y_train, epochs = 50)"
      ],
      "metadata": {
        "colab": {
          "base_uri": "https://localhost:8080/"
        },
        "id": "E_2oS2UwuzKt",
        "outputId": "cb44ef26-d3d5-4c07-e259-227309995237"
      },
      "execution_count": 63,
      "outputs": [
        {
          "output_type": "stream",
          "name": "stdout",
          "text": [
            "Epoch 1/50\n",
            "9/9 [==============================] - 2s 5ms/step - loss: 0.6014 - binary_accuracy: 0.7206\n",
            "Epoch 2/50\n",
            "9/9 [==============================] - 0s 4ms/step - loss: 0.5071 - binary_accuracy: 0.8346\n",
            "Epoch 3/50\n",
            "9/9 [==============================] - 0s 6ms/step - loss: 0.4535 - binary_accuracy: 0.8456\n",
            "Epoch 4/50\n",
            "9/9 [==============================] - 0s 4ms/step - loss: 0.4165 - binary_accuracy: 0.8382\n",
            "Epoch 5/50\n",
            "9/9 [==============================] - 0s 4ms/step - loss: 0.3884 - binary_accuracy: 0.8419\n",
            "Epoch 6/50\n",
            "9/9 [==============================] - 0s 4ms/step - loss: 0.3668 - binary_accuracy: 0.8529\n",
            "Epoch 7/50\n",
            "9/9 [==============================] - 0s 3ms/step - loss: 0.3491 - binary_accuracy: 0.8566\n",
            "Epoch 8/50\n",
            "9/9 [==============================] - 0s 3ms/step - loss: 0.3362 - binary_accuracy: 0.8640\n",
            "Epoch 9/50\n",
            "9/9 [==============================] - 0s 3ms/step - loss: 0.3284 - binary_accuracy: 0.8676\n",
            "Epoch 10/50\n",
            "9/9 [==============================] - 0s 4ms/step - loss: 0.3177 - binary_accuracy: 0.8640\n",
            "Epoch 11/50\n",
            "9/9 [==============================] - 0s 4ms/step - loss: 0.3093 - binary_accuracy: 0.8750\n",
            "Epoch 12/50\n",
            "9/9 [==============================] - 0s 3ms/step - loss: 0.3035 - binary_accuracy: 0.8713\n",
            "Epoch 13/50\n",
            "9/9 [==============================] - 0s 4ms/step - loss: 0.2964 - binary_accuracy: 0.8676\n",
            "Epoch 14/50\n",
            "9/9 [==============================] - 0s 4ms/step - loss: 0.2909 - binary_accuracy: 0.8713\n",
            "Epoch 15/50\n",
            "9/9 [==============================] - 0s 4ms/step - loss: 0.2868 - binary_accuracy: 0.8713\n",
            "Epoch 16/50\n",
            "9/9 [==============================] - 0s 4ms/step - loss: 0.2798 - binary_accuracy: 0.8750\n",
            "Epoch 17/50\n",
            "9/9 [==============================] - 0s 5ms/step - loss: 0.2773 - binary_accuracy: 0.8676\n",
            "Epoch 18/50\n",
            "9/9 [==============================] - 0s 4ms/step - loss: 0.2721 - binary_accuracy: 0.8676\n",
            "Epoch 19/50\n",
            "9/9 [==============================] - 0s 4ms/step - loss: 0.2669 - binary_accuracy: 0.8824\n",
            "Epoch 20/50\n",
            "9/9 [==============================] - 0s 4ms/step - loss: 0.2627 - binary_accuracy: 0.8824\n",
            "Epoch 21/50\n",
            "9/9 [==============================] - 0s 4ms/step - loss: 0.2590 - binary_accuracy: 0.8824\n",
            "Epoch 22/50\n",
            "9/9 [==============================] - 0s 3ms/step - loss: 0.2553 - binary_accuracy: 0.8860\n",
            "Epoch 23/50\n",
            "9/9 [==============================] - 0s 4ms/step - loss: 0.2503 - binary_accuracy: 0.8824\n",
            "Epoch 24/50\n",
            "9/9 [==============================] - 0s 4ms/step - loss: 0.2468 - binary_accuracy: 0.8860\n",
            "Epoch 25/50\n",
            "9/9 [==============================] - 0s 4ms/step - loss: 0.2429 - binary_accuracy: 0.8897\n",
            "Epoch 26/50\n",
            "9/9 [==============================] - 0s 7ms/step - loss: 0.2399 - binary_accuracy: 0.8897\n",
            "Epoch 27/50\n",
            "9/9 [==============================] - 0s 4ms/step - loss: 0.2359 - binary_accuracy: 0.8897\n",
            "Epoch 28/50\n",
            "9/9 [==============================] - 0s 4ms/step - loss: 0.2326 - binary_accuracy: 0.8934\n",
            "Epoch 29/50\n",
            "9/9 [==============================] - 0s 4ms/step - loss: 0.2289 - binary_accuracy: 0.8897\n",
            "Epoch 30/50\n",
            "9/9 [==============================] - 0s 4ms/step - loss: 0.2247 - binary_accuracy: 0.9007\n",
            "Epoch 31/50\n",
            "9/9 [==============================] - 0s 4ms/step - loss: 0.2217 - binary_accuracy: 0.8971\n",
            "Epoch 32/50\n",
            "9/9 [==============================] - 0s 3ms/step - loss: 0.2193 - binary_accuracy: 0.8934\n",
            "Epoch 33/50\n",
            "9/9 [==============================] - 0s 3ms/step - loss: 0.2142 - binary_accuracy: 0.9044\n",
            "Epoch 34/50\n",
            "9/9 [==============================] - 0s 4ms/step - loss: 0.2123 - binary_accuracy: 0.8971\n",
            "Epoch 35/50\n",
            "9/9 [==============================] - 0s 3ms/step - loss: 0.2080 - binary_accuracy: 0.9007\n",
            "Epoch 36/50\n",
            "9/9 [==============================] - 0s 3ms/step - loss: 0.2071 - binary_accuracy: 0.9007\n",
            "Epoch 37/50\n",
            "9/9 [==============================] - 0s 3ms/step - loss: 0.2031 - binary_accuracy: 0.9044\n",
            "Epoch 38/50\n",
            "9/9 [==============================] - 0s 3ms/step - loss: 0.1998 - binary_accuracy: 0.9007\n",
            "Epoch 39/50\n",
            "9/9 [==============================] - 0s 4ms/step - loss: 0.1971 - binary_accuracy: 0.9118\n",
            "Epoch 40/50\n",
            "9/9 [==============================] - 0s 4ms/step - loss: 0.1937 - binary_accuracy: 0.9118\n",
            "Epoch 41/50\n",
            "9/9 [==============================] - 0s 3ms/step - loss: 0.1902 - binary_accuracy: 0.9154\n",
            "Epoch 42/50\n",
            "9/9 [==============================] - 0s 4ms/step - loss: 0.1883 - binary_accuracy: 0.9228\n",
            "Epoch 43/50\n",
            "9/9 [==============================] - 0s 3ms/step - loss: 0.1837 - binary_accuracy: 0.9191\n",
            "Epoch 44/50\n",
            "9/9 [==============================] - 0s 4ms/step - loss: 0.1823 - binary_accuracy: 0.9228\n",
            "Epoch 45/50\n",
            "9/9 [==============================] - 0s 4ms/step - loss: 0.1793 - binary_accuracy: 0.9191\n",
            "Epoch 46/50\n",
            "9/9 [==============================] - 0s 3ms/step - loss: 0.1767 - binary_accuracy: 0.9191\n",
            "Epoch 47/50\n",
            "9/9 [==============================] - 0s 5ms/step - loss: 0.1737 - binary_accuracy: 0.9228\n",
            "Epoch 48/50\n",
            "9/9 [==============================] - 0s 3ms/step - loss: 0.1709 - binary_accuracy: 0.9228\n",
            "Epoch 49/50\n",
            "9/9 [==============================] - 0s 5ms/step - loss: 0.1678 - binary_accuracy: 0.9265\n",
            "Epoch 50/50\n",
            "9/9 [==============================] - 0s 4ms/step - loss: 0.1657 - binary_accuracy: 0.9301\n"
          ]
        },
        {
          "output_type": "execute_result",
          "data": {
            "text/plain": [
              "<keras.callbacks.History at 0x7f48a4e02cd0>"
            ]
          },
          "metadata": {},
          "execution_count": 63
        }
      ]
    },
    {
      "cell_type": "code",
      "source": [
        "model.predict(x_test)"
      ],
      "metadata": {
        "colab": {
          "base_uri": "https://localhost:8080/"
        },
        "id": "STiU1P4xyVXB",
        "outputId": "09106fce-312a-4612-8edf-52cd4d0693ed"
      },
      "execution_count": 64,
      "outputs": [
        {
          "output_type": "execute_result",
          "data": {
            "text/plain": [
              "array([[3.6113942e-01],\n",
              "       [4.0745201e-07],\n",
              "       [9.8416686e-01],\n",
              "       [8.5436606e-01],\n",
              "       [2.2237811e-05],\n",
              "       [3.3671945e-02],\n",
              "       [6.0576570e-01],\n",
              "       [1.7133564e-02],\n",
              "       [1.3318062e-03],\n",
              "       [8.0103874e-03],\n",
              "       [2.4347901e-02],\n",
              "       [7.6163709e-03],\n",
              "       [4.5235157e-03],\n",
              "       [5.6098646e-01],\n",
              "       [1.2629479e-02],\n",
              "       [4.8682722e-01],\n",
              "       [6.7416622e-05],\n",
              "       [6.2679350e-03],\n",
              "       [1.9173354e-02],\n",
              "       [9.8362565e-03],\n",
              "       [7.7859932e-01],\n",
              "       [8.6246729e-01],\n",
              "       [6.4063489e-01],\n",
              "       [1.8369257e-03],\n",
              "       [4.1202009e-03],\n",
              "       [1.0147014e-01],\n",
              "       [2.5029242e-02],\n",
              "       [6.8642585e-05],\n",
              "       [8.3530116e-01],\n",
              "       [5.5370033e-03],\n",
              "       [5.7020783e-04]], dtype=float32)"
            ]
          },
          "metadata": {},
          "execution_count": 64
        }
      ]
    },
    {
      "cell_type": "code",
      "source": [
        "model.evaluate(x=x_test,y = y_test)"
      ],
      "metadata": {
        "colab": {
          "base_uri": "https://localhost:8080/"
        },
        "id": "A31f8LGqyndH",
        "outputId": "d7e7e186-ce6f-49a2-85e4-4db63cbee7a1"
      },
      "execution_count": 65,
      "outputs": [
        {
          "output_type": "stream",
          "name": "stdout",
          "text": [
            "1/1 [==============================] - 0s 255ms/step - loss: 0.2387 - binary_accuracy: 0.8710\n"
          ]
        },
        {
          "output_type": "execute_result",
          "data": {
            "text/plain": [
              "[0.23866188526153564, 0.8709677457809448]"
            ]
          },
          "metadata": {},
          "execution_count": 65
        }
      ]
    },
    {
      "cell_type": "code",
      "source": [
        "#epoch összes elemét látta a modellnek"
      ],
      "metadata": {
        "id": "CwRpPDPiywCe"
      },
      "execution_count": null,
      "outputs": []
    }
  ]
}