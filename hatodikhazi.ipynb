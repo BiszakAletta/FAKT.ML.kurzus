{
  "nbformat": 4,
  "nbformat_minor": 0,
  "metadata": {
    "colab": {
      "name": "hatodikhazi.ipynb",
      "provenance": [],
      "authorship_tag": "ABX9TyOI7Y6er/L4JZkyF2wIcjIO",
      "include_colab_link": true
    },
    "kernelspec": {
      "name": "python3",
      "display_name": "Python 3"
    },
    "language_info": {
      "name": "python"
    },
    "accelerator": "GPU"
  },
  "cells": [
    {
      "cell_type": "markdown",
      "metadata": {
        "id": "view-in-github",
        "colab_type": "text"
      },
      "source": [
        "<a href=\"https://colab.research.google.com/github/BiszakAletta/FAKT.ML.kurzus/blob/main/hatodikhazi.ipynb\" target=\"_parent\"><img src=\"https://colab.research.google.com/assets/colab-badge.svg\" alt=\"Open In Colab\"/></a>"
      ]
    },
    {
      "cell_type": "code",
      "execution_count": 1,
      "metadata": {
        "id": "rX0DrVTu_8PN"
      },
      "outputs": [],
      "source": [
        "import numpy as np\n",
        "import matplotlib.pyplot as plt\n",
        "import pandas as pd"
      ]
    },
    {
      "cell_type": "code",
      "source": [
        "url = 'https://raw.githubusercontent.com/mwitiderrick/stockprice/master/NSE-TATAGLOBAL.csv'\n",
        "dataset_train = pd.read_csv(url)\n",
        "training_set = dataset_train.iloc[:, 1:2].values"
      ],
      "metadata": {
        "id": "MvpR5vp4AeeZ"
      },
      "execution_count": 2,
      "outputs": []
    },
    {
      "cell_type": "code",
      "source": [
        "training_set"
      ],
      "metadata": {
        "colab": {
          "base_uri": "https://localhost:8080/"
        },
        "id": "BAdONqP2WryF",
        "outputId": "e6186ea7-354d-4e9f-9855-90ef48430fbf"
      },
      "execution_count": 14,
      "outputs": [
        {
          "output_type": "execute_result",
          "data": {
            "text/plain": [
              "array([[234.05],\n",
              "       [234.55],\n",
              "       [240.  ],\n",
              "       ...,\n",
              "       [121.8 ],\n",
              "       [120.3 ],\n",
              "       [122.1 ]])"
            ]
          },
          "metadata": {},
          "execution_count": 14
        }
      ]
    },
    {
      "cell_type": "code",
      "source": [
        "dataset_train.head()"
      ],
      "metadata": {
        "colab": {
          "base_uri": "https://localhost:8080/",
          "height": 206
        },
        "id": "i3Ex9XW8AxzE",
        "outputId": "6c856a87-da9f-4d71-e727-4012935be4b9"
      },
      "execution_count": 3,
      "outputs": [
        {
          "output_type": "execute_result",
          "data": {
            "text/plain": [
              "         Date    Open    High     Low    Last   Close  Total Trade Quantity  \\\n",
              "0  2018-09-28  234.05  235.95  230.20  233.50  233.75               3069914   \n",
              "1  2018-09-27  234.55  236.80  231.10  233.80  233.25               5082859   \n",
              "2  2018-09-26  240.00  240.00  232.50  235.00  234.25               2240909   \n",
              "3  2018-09-25  233.30  236.75  232.00  236.25  236.10               2349368   \n",
              "4  2018-09-24  233.55  239.20  230.75  234.00  233.30               3423509   \n",
              "\n",
              "   Turnover (Lacs)  \n",
              "0          7162.35  \n",
              "1         11859.95  \n",
              "2          5248.60  \n",
              "3          5503.90  \n",
              "4          7999.55  "
            ],
            "text/html": [
              "\n",
              "  <div id=\"df-d3b1082e-a152-4384-8e90-d1a1b9c50cbc\">\n",
              "    <div class=\"colab-df-container\">\n",
              "      <div>\n",
              "<style scoped>\n",
              "    .dataframe tbody tr th:only-of-type {\n",
              "        vertical-align: middle;\n",
              "    }\n",
              "\n",
              "    .dataframe tbody tr th {\n",
              "        vertical-align: top;\n",
              "    }\n",
              "\n",
              "    .dataframe thead th {\n",
              "        text-align: right;\n",
              "    }\n",
              "</style>\n",
              "<table border=\"1\" class=\"dataframe\">\n",
              "  <thead>\n",
              "    <tr style=\"text-align: right;\">\n",
              "      <th></th>\n",
              "      <th>Date</th>\n",
              "      <th>Open</th>\n",
              "      <th>High</th>\n",
              "      <th>Low</th>\n",
              "      <th>Last</th>\n",
              "      <th>Close</th>\n",
              "      <th>Total Trade Quantity</th>\n",
              "      <th>Turnover (Lacs)</th>\n",
              "    </tr>\n",
              "  </thead>\n",
              "  <tbody>\n",
              "    <tr>\n",
              "      <th>0</th>\n",
              "      <td>2018-09-28</td>\n",
              "      <td>234.05</td>\n",
              "      <td>235.95</td>\n",
              "      <td>230.20</td>\n",
              "      <td>233.50</td>\n",
              "      <td>233.75</td>\n",
              "      <td>3069914</td>\n",
              "      <td>7162.35</td>\n",
              "    </tr>\n",
              "    <tr>\n",
              "      <th>1</th>\n",
              "      <td>2018-09-27</td>\n",
              "      <td>234.55</td>\n",
              "      <td>236.80</td>\n",
              "      <td>231.10</td>\n",
              "      <td>233.80</td>\n",
              "      <td>233.25</td>\n",
              "      <td>5082859</td>\n",
              "      <td>11859.95</td>\n",
              "    </tr>\n",
              "    <tr>\n",
              "      <th>2</th>\n",
              "      <td>2018-09-26</td>\n",
              "      <td>240.00</td>\n",
              "      <td>240.00</td>\n",
              "      <td>232.50</td>\n",
              "      <td>235.00</td>\n",
              "      <td>234.25</td>\n",
              "      <td>2240909</td>\n",
              "      <td>5248.60</td>\n",
              "    </tr>\n",
              "    <tr>\n",
              "      <th>3</th>\n",
              "      <td>2018-09-25</td>\n",
              "      <td>233.30</td>\n",
              "      <td>236.75</td>\n",
              "      <td>232.00</td>\n",
              "      <td>236.25</td>\n",
              "      <td>236.10</td>\n",
              "      <td>2349368</td>\n",
              "      <td>5503.90</td>\n",
              "    </tr>\n",
              "    <tr>\n",
              "      <th>4</th>\n",
              "      <td>2018-09-24</td>\n",
              "      <td>233.55</td>\n",
              "      <td>239.20</td>\n",
              "      <td>230.75</td>\n",
              "      <td>234.00</td>\n",
              "      <td>233.30</td>\n",
              "      <td>3423509</td>\n",
              "      <td>7999.55</td>\n",
              "    </tr>\n",
              "  </tbody>\n",
              "</table>\n",
              "</div>\n",
              "      <button class=\"colab-df-convert\" onclick=\"convertToInteractive('df-d3b1082e-a152-4384-8e90-d1a1b9c50cbc')\"\n",
              "              title=\"Convert this dataframe to an interactive table.\"\n",
              "              style=\"display:none;\">\n",
              "        \n",
              "  <svg xmlns=\"http://www.w3.org/2000/svg\" height=\"24px\"viewBox=\"0 0 24 24\"\n",
              "       width=\"24px\">\n",
              "    <path d=\"M0 0h24v24H0V0z\" fill=\"none\"/>\n",
              "    <path d=\"M18.56 5.44l.94 2.06.94-2.06 2.06-.94-2.06-.94-.94-2.06-.94 2.06-2.06.94zm-11 1L8.5 8.5l.94-2.06 2.06-.94-2.06-.94L8.5 2.5l-.94 2.06-2.06.94zm10 10l.94 2.06.94-2.06 2.06-.94-2.06-.94-.94-2.06-.94 2.06-2.06.94z\"/><path d=\"M17.41 7.96l-1.37-1.37c-.4-.4-.92-.59-1.43-.59-.52 0-1.04.2-1.43.59L10.3 9.45l-7.72 7.72c-.78.78-.78 2.05 0 2.83L4 21.41c.39.39.9.59 1.41.59.51 0 1.02-.2 1.41-.59l7.78-7.78 2.81-2.81c.8-.78.8-2.07 0-2.86zM5.41 20L4 18.59l7.72-7.72 1.47 1.35L5.41 20z\"/>\n",
              "  </svg>\n",
              "      </button>\n",
              "      \n",
              "  <style>\n",
              "    .colab-df-container {\n",
              "      display:flex;\n",
              "      flex-wrap:wrap;\n",
              "      gap: 12px;\n",
              "    }\n",
              "\n",
              "    .colab-df-convert {\n",
              "      background-color: #E8F0FE;\n",
              "      border: none;\n",
              "      border-radius: 50%;\n",
              "      cursor: pointer;\n",
              "      display: none;\n",
              "      fill: #1967D2;\n",
              "      height: 32px;\n",
              "      padding: 0 0 0 0;\n",
              "      width: 32px;\n",
              "    }\n",
              "\n",
              "    .colab-df-convert:hover {\n",
              "      background-color: #E2EBFA;\n",
              "      box-shadow: 0px 1px 2px rgba(60, 64, 67, 0.3), 0px 1px 3px 1px rgba(60, 64, 67, 0.15);\n",
              "      fill: #174EA6;\n",
              "    }\n",
              "\n",
              "    [theme=dark] .colab-df-convert {\n",
              "      background-color: #3B4455;\n",
              "      fill: #D2E3FC;\n",
              "    }\n",
              "\n",
              "    [theme=dark] .colab-df-convert:hover {\n",
              "      background-color: #434B5C;\n",
              "      box-shadow: 0px 1px 3px 1px rgba(0, 0, 0, 0.15);\n",
              "      filter: drop-shadow(0px 1px 2px rgba(0, 0, 0, 0.3));\n",
              "      fill: #FFFFFF;\n",
              "    }\n",
              "  </style>\n",
              "\n",
              "      <script>\n",
              "        const buttonEl =\n",
              "          document.querySelector('#df-d3b1082e-a152-4384-8e90-d1a1b9c50cbc button.colab-df-convert');\n",
              "        buttonEl.style.display =\n",
              "          google.colab.kernel.accessAllowed ? 'block' : 'none';\n",
              "\n",
              "        async function convertToInteractive(key) {\n",
              "          const element = document.querySelector('#df-d3b1082e-a152-4384-8e90-d1a1b9c50cbc');\n",
              "          const dataTable =\n",
              "            await google.colab.kernel.invokeFunction('convertToInteractive',\n",
              "                                                     [key], {});\n",
              "          if (!dataTable) return;\n",
              "\n",
              "          const docLinkHtml = 'Like what you see? Visit the ' +\n",
              "            '<a target=\"_blank\" href=https://colab.research.google.com/notebooks/data_table.ipynb>data table notebook</a>'\n",
              "            + ' to learn more about interactive tables.';\n",
              "          element.innerHTML = '';\n",
              "          dataTable['output_type'] = 'display_data';\n",
              "          await google.colab.output.renderOutput(dataTable, element);\n",
              "          const docLink = document.createElement('div');\n",
              "          docLink.innerHTML = docLinkHtml;\n",
              "          element.appendChild(docLink);\n",
              "        }\n",
              "      </script>\n",
              "    </div>\n",
              "  </div>\n",
              "  "
            ]
          },
          "metadata": {},
          "execution_count": 3
        }
      ]
    },
    {
      "cell_type": "code",
      "source": [
        "from sklearn.preprocessing import MinMaxScaler\n",
        "sc = MinMaxScaler(feature_range=(0,1))\n",
        "training_set_scaled = sc.fit_transform(training_set)"
      ],
      "metadata": {
        "id": "NOMhve_EBMW7"
      },
      "execution_count": 4,
      "outputs": []
    },
    {
      "cell_type": "code",
      "source": [
        "print(sc.fit_transform(training_set))"
      ],
      "metadata": {
        "colab": {
          "base_uri": "https://localhost:8080/"
        },
        "id": "t_U0LXYTXnrn",
        "outputId": "613e148e-5c61-4f84-edf3-580ba006c773"
      },
      "execution_count": 18,
      "outputs": [
        {
          "output_type": "stream",
          "name": "stdout",
          "text": [
            "[[0.6202352 ]\n",
            " [0.62226277]\n",
            " [0.64436334]\n",
            " ...\n",
            " [0.16504461]\n",
            " [0.15896188]\n",
            " [0.16626115]]\n"
          ]
        }
      ]
    },
    {
      "cell_type": "code",
      "source": [
        "X_train = []\n",
        "y_train = []\n",
        "for i in range(60, 2035):\n",
        "  X_train.append(training_set_scaled[i-60:i, 0])\n",
        "  y_train.append(training_set_scaled[i, 0])\n",
        "X_train, y_train = np.array(X_train), np.array(y_train)\n",
        "X_train = np.reshape(X_train, (X_train.shape[0], X_train.shape[1], 1))"
      ],
      "metadata": {
        "id": "qQWRGXWYBhYy"
      },
      "execution_count": 5,
      "outputs": []
    },
    {
      "cell_type": "code",
      "source": [
        "X_train"
      ],
      "metadata": {
        "id": "kOcrSTkxX-iF"
      },
      "execution_count": null,
      "outputs": []
    },
    {
      "cell_type": "code",
      "source": [
        "from keras.models import Sequential\n",
        "from keras.layers import LSTM\n",
        "from keras.layers import Dropout\n",
        "from keras.layers import Dense"
      ],
      "metadata": {
        "id": "oIecEakfQnJT"
      },
      "execution_count": 6,
      "outputs": []
    },
    {
      "cell_type": "code",
      "source": [
        "model = Sequential()\n",
        "model.add(LSTM(units=50,return_sequences=True,input_shape=(X_train.shape[1], 1)))\n",
        "model.add(Dropout(0.2))\n",
        "model.add(LSTM(units=50,return_sequences=True))\n",
        "model.add(Dropout(0.2))\n",
        "model.add(LSTM(units=50,return_sequences=True))\n",
        "model.add(Dropout(0.2))\n",
        "model.add(LSTM(units=50))\n",
        "model.add(Dropout(0.2))\n",
        "model.add(Dense(units=1))\n",
        "model.compile(optimizer='adam',loss='mean_squared_error')\n",
        "model.fit(X_train,y_train,epochs=100,batch_size=32)"
      ],
      "metadata": {
        "colab": {
          "base_uri": "https://localhost:8080/"
        },
        "id": "WawLHvFZQ5mY",
        "outputId": "2e2c1bfa-dff4-433b-df93-ddf86bf0448e"
      },
      "execution_count": 7,
      "outputs": [
        {
          "output_type": "stream",
          "name": "stdout",
          "text": [
            "Epoch 1/100\n",
            "62/62 [==============================] - 23s 61ms/step - loss: 0.0095\n",
            "Epoch 2/100\n",
            "62/62 [==============================] - 4s 61ms/step - loss: 0.0035\n",
            "Epoch 3/100\n",
            "62/62 [==============================] - 4s 61ms/step - loss: 0.0026\n",
            "Epoch 4/100\n",
            "62/62 [==============================] - 4s 61ms/step - loss: 0.0024\n",
            "Epoch 5/100\n",
            "62/62 [==============================] - 4s 60ms/step - loss: 0.0024\n",
            "Epoch 6/100\n",
            "62/62 [==============================] - 4s 61ms/step - loss: 0.0021\n",
            "Epoch 7/100\n",
            "62/62 [==============================] - 4s 61ms/step - loss: 0.0021\n",
            "Epoch 8/100\n",
            "62/62 [==============================] - 4s 61ms/step - loss: 0.0019\n",
            "Epoch 9/100\n",
            "62/62 [==============================] - 4s 61ms/step - loss: 0.0021\n",
            "Epoch 10/100\n",
            "62/62 [==============================] - 4s 61ms/step - loss: 0.0021\n",
            "Epoch 11/100\n",
            "62/62 [==============================] - 4s 60ms/step - loss: 0.0017\n",
            "Epoch 12/100\n",
            "62/62 [==============================] - 4s 61ms/step - loss: 0.0018\n",
            "Epoch 13/100\n",
            "62/62 [==============================] - 4s 61ms/step - loss: 0.0016\n",
            "Epoch 14/100\n",
            "62/62 [==============================] - 4s 64ms/step - loss: 0.0016\n",
            "Epoch 15/100\n",
            "62/62 [==============================] - 4s 60ms/step - loss: 0.0018\n",
            "Epoch 16/100\n",
            "62/62 [==============================] - 4s 60ms/step - loss: 0.0018\n",
            "Epoch 17/100\n",
            "62/62 [==============================] - 4s 60ms/step - loss: 0.0016\n",
            "Epoch 18/100\n",
            "62/62 [==============================] - 4s 61ms/step - loss: 0.0015\n",
            "Epoch 19/100\n",
            "62/62 [==============================] - 4s 61ms/step - loss: 0.0014\n",
            "Epoch 20/100\n",
            "62/62 [==============================] - 4s 61ms/step - loss: 0.0016\n",
            "Epoch 21/100\n",
            "62/62 [==============================] - 4s 62ms/step - loss: 0.0015\n",
            "Epoch 22/100\n",
            "62/62 [==============================] - 4s 62ms/step - loss: 0.0012\n",
            "Epoch 23/100\n",
            "62/62 [==============================] - 4s 61ms/step - loss: 0.0013\n",
            "Epoch 24/100\n",
            "62/62 [==============================] - 4s 61ms/step - loss: 0.0012\n",
            "Epoch 25/100\n",
            "62/62 [==============================] - 4s 61ms/step - loss: 0.0013\n",
            "Epoch 26/100\n",
            "62/62 [==============================] - 4s 61ms/step - loss: 0.0012\n",
            "Epoch 27/100\n",
            "62/62 [==============================] - 4s 61ms/step - loss: 0.0012\n",
            "Epoch 28/100\n",
            "62/62 [==============================] - 4s 61ms/step - loss: 0.0013\n",
            "Epoch 29/100\n",
            "62/62 [==============================] - 4s 61ms/step - loss: 0.0012\n",
            "Epoch 30/100\n",
            "62/62 [==============================] - 4s 61ms/step - loss: 0.0010\n",
            "Epoch 31/100\n",
            "62/62 [==============================] - 4s 61ms/step - loss: 0.0011\n",
            "Epoch 32/100\n",
            "62/62 [==============================] - 4s 61ms/step - loss: 0.0012\n",
            "Epoch 33/100\n",
            "62/62 [==============================] - 4s 61ms/step - loss: 0.0011\n",
            "Epoch 34/100\n",
            "62/62 [==============================] - 4s 61ms/step - loss: 9.9496e-04\n",
            "Epoch 35/100\n",
            "62/62 [==============================] - 4s 62ms/step - loss: 0.0013\n",
            "Epoch 36/100\n",
            "62/62 [==============================] - 4s 61ms/step - loss: 9.8760e-04\n",
            "Epoch 37/100\n",
            "62/62 [==============================] - 4s 61ms/step - loss: 0.0011\n",
            "Epoch 38/100\n",
            "62/62 [==============================] - 4s 61ms/step - loss: 0.0010\n",
            "Epoch 39/100\n",
            "62/62 [==============================] - 4s 62ms/step - loss: 9.7135e-04\n",
            "Epoch 40/100\n",
            "62/62 [==============================] - 4s 62ms/step - loss: 0.0011\n",
            "Epoch 41/100\n",
            "62/62 [==============================] - 4s 62ms/step - loss: 8.3635e-04\n",
            "Epoch 42/100\n",
            "62/62 [==============================] - 4s 62ms/step - loss: 9.5301e-04\n",
            "Epoch 43/100\n",
            "62/62 [==============================] - 4s 62ms/step - loss: 9.7339e-04\n",
            "Epoch 44/100\n",
            "62/62 [==============================] - 4s 62ms/step - loss: 9.3577e-04\n",
            "Epoch 45/100\n",
            "62/62 [==============================] - 4s 61ms/step - loss: 9.4331e-04\n",
            "Epoch 46/100\n",
            "62/62 [==============================] - 4s 61ms/step - loss: 9.2297e-04\n",
            "Epoch 47/100\n",
            "62/62 [==============================] - 4s 61ms/step - loss: 0.0010\n",
            "Epoch 48/100\n",
            "62/62 [==============================] - 4s 62ms/step - loss: 0.0010\n",
            "Epoch 49/100\n",
            "62/62 [==============================] - 4s 61ms/step - loss: 8.9704e-04\n",
            "Epoch 50/100\n",
            "62/62 [==============================] - 4s 62ms/step - loss: 9.8459e-04\n",
            "Epoch 51/100\n",
            "62/62 [==============================] - 4s 61ms/step - loss: 7.7224e-04\n",
            "Epoch 52/100\n",
            "62/62 [==============================] - 4s 61ms/step - loss: 8.5023e-04\n",
            "Epoch 53/100\n",
            "62/62 [==============================] - 4s 61ms/step - loss: 8.4820e-04\n",
            "Epoch 54/100\n",
            "62/62 [==============================] - 4s 61ms/step - loss: 8.3638e-04\n",
            "Epoch 55/100\n",
            "62/62 [==============================] - 4s 61ms/step - loss: 8.4744e-04\n",
            "Epoch 56/100\n",
            "62/62 [==============================] - 4s 61ms/step - loss: 7.8808e-04\n",
            "Epoch 57/100\n",
            "62/62 [==============================] - 4s 61ms/step - loss: 7.8602e-04\n",
            "Epoch 58/100\n",
            "62/62 [==============================] - 4s 61ms/step - loss: 9.3226e-04\n",
            "Epoch 59/100\n",
            "62/62 [==============================] - 4s 61ms/step - loss: 8.3495e-04\n",
            "Epoch 60/100\n",
            "62/62 [==============================] - 4s 61ms/step - loss: 6.7586e-04\n",
            "Epoch 61/100\n",
            "62/62 [==============================] - 4s 61ms/step - loss: 7.5540e-04\n",
            "Epoch 62/100\n",
            "62/62 [==============================] - 4s 62ms/step - loss: 7.4545e-04\n",
            "Epoch 63/100\n",
            "62/62 [==============================] - 4s 62ms/step - loss: 7.8486e-04\n",
            "Epoch 64/100\n",
            "62/62 [==============================] - 4s 62ms/step - loss: 7.2859e-04\n",
            "Epoch 65/100\n",
            "62/62 [==============================] - 4s 62ms/step - loss: 8.1142e-04\n",
            "Epoch 66/100\n",
            "62/62 [==============================] - 4s 62ms/step - loss: 6.6900e-04\n",
            "Epoch 67/100\n",
            "62/62 [==============================] - 4s 62ms/step - loss: 7.4047e-04\n",
            "Epoch 68/100\n",
            "62/62 [==============================] - 4s 61ms/step - loss: 7.1910e-04\n",
            "Epoch 69/100\n",
            "62/62 [==============================] - 4s 61ms/step - loss: 7.0844e-04\n",
            "Epoch 70/100\n",
            "62/62 [==============================] - 4s 61ms/step - loss: 7.0957e-04\n",
            "Epoch 71/100\n",
            "62/62 [==============================] - 4s 62ms/step - loss: 6.6993e-04\n",
            "Epoch 72/100\n",
            "62/62 [==============================] - 4s 61ms/step - loss: 6.1339e-04\n",
            "Epoch 73/100\n",
            "62/62 [==============================] - 4s 62ms/step - loss: 7.0532e-04\n",
            "Epoch 74/100\n",
            "62/62 [==============================] - 4s 62ms/step - loss: 8.2632e-04\n",
            "Epoch 75/100\n",
            "62/62 [==============================] - 4s 61ms/step - loss: 8.1700e-04\n",
            "Epoch 76/100\n",
            "62/62 [==============================] - 4s 62ms/step - loss: 7.1071e-04\n",
            "Epoch 77/100\n",
            "62/62 [==============================] - 4s 61ms/step - loss: 6.6657e-04\n",
            "Epoch 78/100\n",
            "62/62 [==============================] - 4s 62ms/step - loss: 6.9634e-04\n",
            "Epoch 79/100\n",
            "62/62 [==============================] - 4s 62ms/step - loss: 6.5563e-04\n",
            "Epoch 80/100\n",
            "62/62 [==============================] - 4s 62ms/step - loss: 6.9310e-04\n",
            "Epoch 81/100\n",
            "62/62 [==============================] - 4s 61ms/step - loss: 6.1769e-04\n",
            "Epoch 82/100\n",
            "62/62 [==============================] - 4s 61ms/step - loss: 6.9556e-04\n",
            "Epoch 83/100\n",
            "62/62 [==============================] - 4s 62ms/step - loss: 7.0216e-04\n",
            "Epoch 84/100\n",
            "62/62 [==============================] - 4s 61ms/step - loss: 7.3708e-04\n",
            "Epoch 85/100\n",
            "62/62 [==============================] - 4s 61ms/step - loss: 6.8534e-04\n",
            "Epoch 86/100\n",
            "62/62 [==============================] - 4s 61ms/step - loss: 7.3868e-04\n",
            "Epoch 87/100\n",
            "62/62 [==============================] - 4s 61ms/step - loss: 6.9188e-04\n",
            "Epoch 88/100\n",
            "62/62 [==============================] - 4s 62ms/step - loss: 6.8241e-04\n",
            "Epoch 89/100\n",
            "62/62 [==============================] - 4s 62ms/step - loss: 6.4732e-04\n",
            "Epoch 90/100\n",
            "62/62 [==============================] - 4s 61ms/step - loss: 6.8476e-04\n",
            "Epoch 91/100\n",
            "62/62 [==============================] - 4s 62ms/step - loss: 5.9652e-04\n",
            "Epoch 92/100\n",
            "62/62 [==============================] - 4s 61ms/step - loss: 6.6877e-04\n",
            "Epoch 93/100\n",
            "62/62 [==============================] - 4s 62ms/step - loss: 7.4621e-04\n",
            "Epoch 94/100\n",
            "62/62 [==============================] - 4s 61ms/step - loss: 6.6446e-04\n",
            "Epoch 95/100\n",
            "62/62 [==============================] - 4s 61ms/step - loss: 6.2528e-04\n",
            "Epoch 96/100\n",
            "62/62 [==============================] - 4s 61ms/step - loss: 6.4987e-04\n",
            "Epoch 97/100\n",
            "62/62 [==============================] - 4s 61ms/step - loss: 6.0635e-04\n",
            "Epoch 98/100\n",
            "62/62 [==============================] - 4s 61ms/step - loss: 6.3013e-04\n",
            "Epoch 99/100\n",
            "62/62 [==============================] - 4s 61ms/step - loss: 6.9751e-04\n",
            "Epoch 100/100\n",
            "62/62 [==============================] - 4s 61ms/step - loss: 6.8727e-04\n"
          ]
        },
        {
          "output_type": "execute_result",
          "data": {
            "text/plain": [
              "<keras.callbacks.History at 0x7f8932aa3950>"
            ]
          },
          "metadata": {},
          "execution_count": 7
        }
      ]
    },
    {
      "cell_type": "code",
      "source": [
        "url = 'https://raw.githubusercontent.com/mwitiderrick/stockprice/master/tatatest.csv'\n",
        "dataset_test = pd.read_csv(url)\n",
        "real_stock_price = dataset_test.iloc[:, 1:2].values"
      ],
      "metadata": {
        "id": "54nJHyIkTNHw"
      },
      "execution_count": 8,
      "outputs": []
    },
    {
      "cell_type": "code",
      "source": [
        "dataset_total = pd.concat((dataset_train['Open'], dataset_test['Open']), axis = 0)\n",
        "inputs = dataset_total[len(dataset_total) - len(dataset_test) - 60:].values\n",
        "inputs = inputs.reshape(-1,1)\n",
        "inputs = sc.transform(inputs)\n",
        "X_test = []\n",
        "for i in range(60, 76):\n",
        "  X_test.append(inputs[i-60:i, 0])\n",
        "X_test = np.array(X_test)\n",
        "X_test = np.reshape(X_test, (X_test.shape[0], X_test.shape[1], 1))\n",
        "predicted_stock_price = model.predict(X_test)\n",
        "predicted_stock_price = sc.inverse_transform(predicted_stock_price)"
      ],
      "metadata": {
        "id": "mVNWAZacTStE"
      },
      "execution_count": 9,
      "outputs": []
    },
    {
      "cell_type": "code",
      "source": [
        "plt.plot(real_stock_price, color = 'black', label = 'TATA Stock Price')\n",
        "plt.plot(predicted_stock_price, color='green', label='Predicted TATA Stock Price')\n",
        "plt.title('TATA Stock Price Prediction')\n",
        "plt.xlabel('Time')\n",
        "plt.ylabel('TATA Stock Price')\n",
        "plt.legend()\n",
        "plt.show()"
      ],
      "metadata": {
        "colab": {
          "base_uri": "https://localhost:8080/",
          "height": 295
        },
        "id": "qiMyOhaPT_Cs",
        "outputId": "cb01e98d-00ac-47bb-e03b-38cd48e2bf0c"
      },
      "execution_count": 12,
      "outputs": [
        {
          "output_type": "display_data",
          "data": {
            "text/plain": [
              "<Figure size 432x288 with 1 Axes>"
            ],
            "image/png": "[encoded data removed]"
          },
          "metadata": {
            "needs_background": "light"
          }
        }
      ]
    },
    {
      "cell_type": "code",
      "source": [
        "from tensorflow.keras.callbacks import EarlyStopping, TensorBoard\n",
        "early_stopping_callback = EarlyStopping(patience=20, restore_best_weights=True)\n"
      ],
      "metadata": {
        "id": "8MKbWJNQZHPe"
      },
      "execution_count": 25,
      "outputs": []
    },
    {
      "cell_type": "code",
      "source": [
        "#nem tesz bele earlystoppingot kipróbálom azzal is\n",
        "model2 = Sequential()\n",
        "model2.add(LSTM(units=50,return_sequences=True,input_shape=(X_train.shape[1], 1)))\n",
        "model2.add(Dropout(0.2))\n",
        "model2.add(LSTM(units=50,return_sequences=True))\n",
        "model2.add(Dropout(0.2))\n",
        "model2.add(LSTM(units=50,return_sequences=True))\n",
        "model2.add(Dropout(0.2))\n",
        "model2.add(LSTM(units=50))\n",
        "model2.add(Dropout(0.2))\n",
        "model2.add(Dense(units=1))\n",
        "model2.compile(optimizer='adam',loss='mean_squared_error')\n",
        "model2.fit(X_train,y_train,epochs=100,batch_size=32,validation_split=0.1, callbacks=[early_stopping_callback, tensorboard_callback])"
      ],
      "metadata": {
        "colab": {
          "base_uri": "https://localhost:8080/"
        },
        "id": "m34vTZrSUMRo",
        "outputId": "15d6f071-8cb4-4ab6-e655-436363c6fd8c"
      },
      "execution_count": 26,
      "outputs": [
        {
          "output_type": "stream",
          "name": "stdout",
          "text": [
            "Epoch 1/100\n",
            "56/56 [==============================] - 13s 94ms/step - loss: 0.0097 - val_loss: 6.4354e-04\n",
            "Epoch 2/100\n",
            "56/56 [==============================] - 4s 63ms/step - loss: 0.0031 - val_loss: 6.8960e-04\n",
            "Epoch 3/100\n",
            "56/56 [==============================] - 4s 64ms/step - loss: 0.0030 - val_loss: 5.8586e-04\n",
            "Epoch 4/100\n",
            "56/56 [==============================] - 4s 66ms/step - loss: 0.0026 - val_loss: 5.3614e-04\n",
            "Epoch 5/100\n",
            "56/56 [==============================] - 4s 66ms/step - loss: 0.0028 - val_loss: 7.2871e-04\n",
            "Epoch 6/100\n",
            "56/56 [==============================] - 4s 64ms/step - loss: 0.0022 - val_loss: 4.7781e-04\n",
            "Epoch 7/100\n",
            "56/56 [==============================] - 4s 67ms/step - loss: 0.0021 - val_loss: 4.6142e-04\n",
            "Epoch 8/100\n",
            "56/56 [==============================] - 4s 67ms/step - loss: 0.0020 - val_loss: 4.4979e-04\n",
            "Epoch 9/100\n",
            "56/56 [==============================] - 4s 64ms/step - loss: 0.0023 - val_loss: 4.2247e-04\n",
            "Epoch 10/100\n",
            "56/56 [==============================] - 4s 63ms/step - loss: 0.0021 - val_loss: 4.6564e-04\n",
            "Epoch 11/100\n",
            "56/56 [==============================] - 4s 66ms/step - loss: 0.0020 - val_loss: 8.2803e-04\n",
            "Epoch 12/100\n",
            "56/56 [==============================] - 4s 67ms/step - loss: 0.0019 - val_loss: 3.7973e-04\n",
            "Epoch 13/100\n",
            "56/56 [==============================] - 4s 64ms/step - loss: 0.0020 - val_loss: 4.0396e-04\n",
            "Epoch 14/100\n",
            "56/56 [==============================] - 4s 66ms/step - loss: 0.0018 - val_loss: 3.7087e-04\n",
            "Epoch 15/100\n",
            "56/56 [==============================] - 4s 63ms/step - loss: 0.0021 - val_loss: 8.3348e-04\n",
            "Epoch 16/100\n",
            "56/56 [==============================] - 4s 66ms/step - loss: 0.0022 - val_loss: 6.1278e-04\n",
            "Epoch 17/100\n",
            "56/56 [==============================] - 4s 63ms/step - loss: 0.0016 - val_loss: 5.4572e-04\n",
            "Epoch 18/100\n",
            "56/56 [==============================] - 4s 63ms/step - loss: 0.0017 - val_loss: 4.2193e-04\n",
            "Epoch 19/100\n",
            "56/56 [==============================] - 4s 66ms/step - loss: 0.0017 - val_loss: 3.3725e-04\n",
            "Epoch 20/100\n",
            "56/56 [==============================] - 4s 66ms/step - loss: 0.0016 - val_loss: 3.8471e-04\n",
            "Epoch 21/100\n",
            "56/56 [==============================] - 4s 68ms/step - loss: 0.0015 - val_loss: 5.6341e-04\n",
            "Epoch 22/100\n",
            "56/56 [==============================] - 4s 64ms/step - loss: 0.0016 - val_loss: 3.2201e-04\n",
            "Epoch 23/100\n",
            "56/56 [==============================] - 4s 65ms/step - loss: 0.0015 - val_loss: 3.4583e-04\n",
            "Epoch 24/100\n",
            "56/56 [==============================] - 4s 63ms/step - loss: 0.0015 - val_loss: 5.2550e-04\n",
            "Epoch 25/100\n",
            "56/56 [==============================] - 4s 66ms/step - loss: 0.0014 - val_loss: 3.8579e-04\n",
            "Epoch 26/100\n",
            "56/56 [==============================] - 4s 65ms/step - loss: 0.0013 - val_loss: 2.9863e-04\n",
            "Epoch 27/100\n",
            "56/56 [==============================] - 4s 66ms/step - loss: 0.0014 - val_loss: 4.8665e-04\n",
            "Epoch 28/100\n",
            "56/56 [==============================] - 4s 66ms/step - loss: 0.0012 - val_loss: 3.8648e-04\n",
            "Epoch 29/100\n",
            "56/56 [==============================] - 4s 64ms/step - loss: 0.0013 - val_loss: 2.9295e-04\n",
            "Epoch 30/100\n",
            "56/56 [==============================] - 4s 70ms/step - loss: 0.0013 - val_loss: 3.4327e-04\n",
            "Epoch 31/100\n",
            "56/56 [==============================] - 4s 67ms/step - loss: 0.0013 - val_loss: 2.9026e-04\n",
            "Epoch 32/100\n",
            "56/56 [==============================] - 4s 66ms/step - loss: 0.0013 - val_loss: 2.6883e-04\n",
            "Epoch 33/100\n",
            "56/56 [==============================] - 4s 63ms/step - loss: 0.0011 - val_loss: 2.8429e-04\n",
            "Epoch 34/100\n",
            "56/56 [==============================] - 4s 64ms/step - loss: 0.0013 - val_loss: 2.7020e-04\n",
            "Epoch 35/100\n",
            "56/56 [==============================] - 4s 66ms/step - loss: 0.0012 - val_loss: 2.7555e-04\n",
            "Epoch 36/100\n",
            "56/56 [==============================] - 4s 66ms/step - loss: 0.0013 - val_loss: 4.5060e-04\n",
            "Epoch 37/100\n",
            "56/56 [==============================] - 4s 63ms/step - loss: 0.0011 - val_loss: 3.2351e-04\n",
            "Epoch 38/100\n",
            "56/56 [==============================] - 4s 63ms/step - loss: 0.0010 - val_loss: 2.6987e-04\n",
            "Epoch 39/100\n",
            "56/56 [==============================] - 4s 64ms/step - loss: 0.0011 - val_loss: 2.4884e-04\n",
            "Epoch 40/100\n",
            "56/56 [==============================] - 4s 66ms/step - loss: 9.4827e-04 - val_loss: 2.6844e-04\n",
            "Epoch 41/100\n",
            "56/56 [==============================] - 4s 63ms/step - loss: 0.0011 - val_loss: 2.5474e-04\n",
            "Epoch 42/100\n",
            "56/56 [==============================] - 4s 65ms/step - loss: 0.0010 - val_loss: 2.7849e-04\n",
            "Epoch 43/100\n",
            "56/56 [==============================] - 4s 66ms/step - loss: 0.0011 - val_loss: 4.2410e-04\n",
            "Epoch 44/100\n",
            "56/56 [==============================] - 4s 66ms/step - loss: 0.0010 - val_loss: 2.2102e-04\n",
            "Epoch 45/100\n",
            "56/56 [==============================] - 4s 63ms/step - loss: 0.0011 - val_loss: 3.8641e-04\n",
            "Epoch 46/100\n",
            "56/56 [==============================] - 4s 66ms/step - loss: 9.4951e-04 - val_loss: 4.3796e-04\n",
            "Epoch 47/100\n",
            "56/56 [==============================] - 4s 66ms/step - loss: 9.9565e-04 - val_loss: 2.3727e-04\n",
            "Epoch 48/100\n",
            "56/56 [==============================] - 4s 64ms/step - loss: 9.1454e-04 - val_loss: 2.0540e-04\n",
            "Epoch 49/100\n",
            "56/56 [==============================] - 4s 66ms/step - loss: 9.6547e-04 - val_loss: 2.4953e-04\n",
            "Epoch 50/100\n",
            "56/56 [==============================] - 4s 66ms/step - loss: 0.0010 - val_loss: 7.3195e-04\n",
            "Epoch 51/100\n",
            "56/56 [==============================] - 4s 66ms/step - loss: 0.0011 - val_loss: 1.9674e-04\n",
            "Epoch 52/100\n",
            "56/56 [==============================] - 4s 63ms/step - loss: 9.5107e-04 - val_loss: 1.8677e-04\n",
            "Epoch 53/100\n",
            "56/56 [==============================] - 4s 64ms/step - loss: 8.7241e-04 - val_loss: 1.8476e-04\n",
            "Epoch 54/100\n",
            "56/56 [==============================] - 4s 66ms/step - loss: 8.0941e-04 - val_loss: 4.3065e-04\n",
            "Epoch 55/100\n",
            "56/56 [==============================] - 4s 64ms/step - loss: 9.5228e-04 - val_loss: 3.2221e-04\n",
            "Epoch 56/100\n",
            "56/56 [==============================] - 4s 63ms/step - loss: 8.9229e-04 - val_loss: 1.7697e-04\n",
            "Epoch 57/100\n",
            "56/56 [==============================] - 4s 66ms/step - loss: 9.6529e-04 - val_loss: 1.7356e-04\n",
            "Epoch 58/100\n",
            "56/56 [==============================] - 4s 64ms/step - loss: 7.9123e-04 - val_loss: 1.7183e-04\n",
            "Epoch 59/100\n",
            "56/56 [==============================] - 4s 66ms/step - loss: 9.9627e-04 - val_loss: 1.9508e-04\n",
            "Epoch 60/100\n",
            "56/56 [==============================] - 4s 66ms/step - loss: 8.4754e-04 - val_loss: 3.9279e-04\n",
            "Epoch 61/100\n",
            "56/56 [==============================] - 4s 63ms/step - loss: 9.4356e-04 - val_loss: 2.6031e-04\n",
            "Epoch 62/100\n",
            "56/56 [==============================] - 4s 66ms/step - loss: 8.4830e-04 - val_loss: 2.0180e-04\n",
            "Epoch 63/100\n",
            "56/56 [==============================] - 4s 64ms/step - loss: 7.7779e-04 - val_loss: 1.8425e-04\n",
            "Epoch 64/100\n",
            "56/56 [==============================] - 4s 66ms/step - loss: 8.8442e-04 - val_loss: 5.0546e-04\n",
            "Epoch 65/100\n",
            "56/56 [==============================] - 4s 63ms/step - loss: 8.9360e-04 - val_loss: 3.4597e-04\n",
            "Epoch 66/100\n",
            "56/56 [==============================] - 4s 66ms/step - loss: 9.2316e-04 - val_loss: 3.3969e-04\n",
            "Epoch 67/100\n",
            "56/56 [==============================] - 4s 66ms/step - loss: 8.7225e-04 - val_loss: 2.3465e-04\n",
            "Epoch 68/100\n",
            "56/56 [==============================] - 4s 63ms/step - loss: 8.0428e-04 - val_loss: 2.2118e-04\n",
            "Epoch 69/100\n",
            "56/56 [==============================] - 4s 63ms/step - loss: 7.8164e-04 - val_loss: 1.7165e-04\n",
            "Epoch 70/100\n",
            "56/56 [==============================] - 4s 66ms/step - loss: 7.7534e-04 - val_loss: 1.4384e-04\n",
            "Epoch 71/100\n",
            "56/56 [==============================] - 4s 66ms/step - loss: 8.2792e-04 - val_loss: 1.9776e-04\n",
            "Epoch 72/100\n",
            "56/56 [==============================] - 4s 64ms/step - loss: 8.6783e-04 - val_loss: 5.3948e-04\n",
            "Epoch 73/100\n",
            "56/56 [==============================] - 4s 66ms/step - loss: 7.7371e-04 - val_loss: 1.7652e-04\n",
            "Epoch 74/100\n",
            "56/56 [==============================] - 4s 66ms/step - loss: 6.8164e-04 - val_loss: 1.7113e-04\n",
            "Epoch 75/100\n",
            "56/56 [==============================] - 4s 64ms/step - loss: 8.2037e-04 - val_loss: 2.6376e-04\n",
            "Epoch 76/100\n",
            "56/56 [==============================] - 4s 64ms/step - loss: 7.5641e-04 - val_loss: 1.8134e-04\n",
            "Epoch 77/100\n",
            "56/56 [==============================] - 4s 64ms/step - loss: 7.6161e-04 - val_loss: 2.0607e-04\n",
            "Epoch 78/100\n",
            "56/56 [==============================] - 4s 63ms/step - loss: 7.5817e-04 - val_loss: 1.4382e-04\n",
            "Epoch 79/100\n",
            "56/56 [==============================] - 4s 63ms/step - loss: 7.4868e-04 - val_loss: 1.4576e-04\n",
            "Epoch 80/100\n",
            "56/56 [==============================] - 4s 63ms/step - loss: 7.7515e-04 - val_loss: 1.6022e-04\n",
            "Epoch 81/100\n",
            "56/56 [==============================] - 4s 66ms/step - loss: 7.0322e-04 - val_loss: 1.2736e-04\n",
            "Epoch 82/100\n",
            "56/56 [==============================] - 4s 64ms/step - loss: 6.7019e-04 - val_loss: 1.3012e-04\n",
            "Epoch 83/100\n",
            "56/56 [==============================] - 4s 64ms/step - loss: 7.9579e-04 - val_loss: 4.0862e-04\n",
            "Epoch 84/100\n",
            "56/56 [==============================] - 4s 64ms/step - loss: 7.0402e-04 - val_loss: 1.4821e-04\n",
            "Epoch 85/100\n",
            "56/56 [==============================] - 4s 64ms/step - loss: 6.3675e-04 - val_loss: 1.7711e-04\n",
            "Epoch 86/100\n",
            "56/56 [==============================] - 4s 66ms/step - loss: 5.7261e-04 - val_loss: 1.2544e-04\n",
            "Epoch 87/100\n",
            "56/56 [==============================] - 4s 63ms/step - loss: 6.3296e-04 - val_loss: 1.2882e-04\n",
            "Epoch 88/100\n",
            "56/56 [==============================] - 4s 64ms/step - loss: 7.1151e-04 - val_loss: 1.5419e-04\n",
            "Epoch 89/100\n",
            "56/56 [==============================] - 4s 64ms/step - loss: 7.6275e-04 - val_loss: 1.5433e-04\n",
            "Epoch 90/100\n",
            "56/56 [==============================] - 4s 66ms/step - loss: 7.0441e-04 - val_loss: 3.0271e-04\n",
            "Epoch 91/100\n",
            "56/56 [==============================] - 4s 64ms/step - loss: 6.9282e-04 - val_loss: 1.3325e-04\n",
            "Epoch 92/100\n",
            "56/56 [==============================] - 4s 63ms/step - loss: 6.4085e-04 - val_loss: 2.9806e-04\n",
            "Epoch 93/100\n",
            "56/56 [==============================] - 4s 64ms/step - loss: 6.8584e-04 - val_loss: 1.7457e-04\n",
            "Epoch 94/100\n",
            "56/56 [==============================] - 4s 66ms/step - loss: 7.3577e-04 - val_loss: 2.1520e-04\n",
            "Epoch 95/100\n",
            "56/56 [==============================] - 4s 64ms/step - loss: 7.6410e-04 - val_loss: 1.6403e-04\n",
            "Epoch 96/100\n",
            "56/56 [==============================] - 4s 64ms/step - loss: 7.5603e-04 - val_loss: 3.2070e-04\n",
            "Epoch 97/100\n",
            "56/56 [==============================] - 4s 67ms/step - loss: 6.4014e-04 - val_loss: 1.7805e-04\n",
            "Epoch 98/100\n",
            "56/56 [==============================] - 4s 66ms/step - loss: 7.2658e-04 - val_loss: 2.3360e-04\n",
            "Epoch 99/100\n",
            "56/56 [==============================] - 4s 66ms/step - loss: 7.7631e-04 - val_loss: 1.9157e-04\n",
            "Epoch 100/100\n",
            "56/56 [==============================] - 4s 66ms/step - loss: 7.5584e-04 - val_loss: 1.1671e-04\n"
          ]
        },
        {
          "output_type": "execute_result",
          "data": {
            "text/plain": [
              "<keras.callbacks.History at 0x7f892f4442d0>"
            ]
          },
          "metadata": {},
          "execution_count": 26
        }
      ]
    },
    {
      "cell_type": "markdown",
      "source": [
        "Early stoppingot leehet bele tenni?\n",
        "Minmaxscaler ebben az esetben azért van, mert itt számít az értékek különbsége nem úgy mint a szövegnél, csak normalizáljuk 0,1 közé?\n",
        "https://machinelearningmastery.com/time-series-prediction-lstm-recurrent-neural-networks-python-keras/\n"
      ],
      "metadata": {
        "id": "dGXrQYH6aaFO"
      }
    },
    {
      "cell_type": "code",
      "source": [
        "#megállította 29 epochnál"
      ],
      "metadata": {
        "id": "3e-62HQfeLD3"
      },
      "execution_count": null,
      "outputs": []
    },
    {
      "cell_type": "code",
      "source": [
        "predicted_stock_price2 = model2.predict(X_test)\n",
        "predicted_stock_price2 = sc.inverse_transform(predicted_stock_price2)"
      ],
      "metadata": {
        "id": "8K5tfXrOgmOs"
      },
      "execution_count": 27,
      "outputs": []
    },
    {
      "cell_type": "code",
      "source": [
        "plt.plot(real_stock_price, color = 'black', label = 'TATA Stock Price')\n",
        "plt.plot(predicted_stock_price2, color='green', label='Predicted TATA Stock Price')\n",
        "plt.title('TATA Stock Price Prediction')\n",
        "plt.xlabel('Time')\n",
        "plt.ylabel('TATA Stock Price')\n",
        "plt.legend()\n",
        "plt.show()"
      ],
      "metadata": {
        "colab": {
          "base_uri": "https://localhost:8080/",
          "height": 295
        },
        "id": "1NQo_tEDguQ1",
        "outputId": "829ba31a-895b-4ff5-9ac7-ff9e2e3265ed"
      },
      "execution_count": 28,
      "outputs": [
        {
          "output_type": "display_data",
          "data": {
            "text/plain": [
              "<Figure size 432x288 with 1 Axes>"
            ],
            "image/png": "[encoded data removed]"
          },
          "metadata": {
            "needs_background": "light"
          }
        }
      ]
    },
    {
      "cell_type": "code",
      "source": [
        "#egy kicsit másmilyen lett az ábra alapján - hogyan lehetne eldönteni, hogy melyik a jobb?"
      ],
      "metadata": {
        "id": "YZjXirOBg48l"
      },
      "execution_count": null,
      "outputs": []
    }
  ]
}